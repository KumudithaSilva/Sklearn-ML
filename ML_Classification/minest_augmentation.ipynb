{
 "cells": [
  {
   "cell_type": "markdown",
   "id": "f3bf4405",
   "metadata": {},
   "source": [
    "# MNIST Digit Classification With Augmentation 🧩✍️\n",
    "\n",
    "This notebook demonstrates a simple but powerful machine learning task: **classifying handwritten digits** using the MNIST dataset.\n",
    "\n",
    "The **MNIST (Modified National Institute of Standards and Technology)** dataset is a classic benchmark in the field of machine learning and computer vision. It contains **70,000 grayscale images** of handwritten digits from 0 to 9—60,000 for training and 10,000 for testing. Each image is **28x28 pixels**.\n",
    "\n",
    "In this notebook, we will:\n",
    "- Load and explore the MNIST dataset\n",
    "- Preprocess the data for model input\n",
    "- Data Augmentation\n",
    "- Grid Search\n",
    "- Train a classifier \n",
    "- Evaluate its performance\n",
    "- Visualize predictions and misclassifications\n",
    "\n",
    "This project is enhancement of the previous MINST image classification. Let's get started! 🚀"
   ]
  },
  {
   "cell_type": "markdown",
   "id": "c4c5de0b",
   "metadata": {},
   "source": [
    "### LOAD DATA"
   ]
  },
  {
   "cell_type": "code",
   "execution_count": 1,
   "id": "ca9f3ab6",
   "metadata": {},
   "outputs": [],
   "source": [
    "from sklearn.datasets import fetch_openml\n",
    "import matplotlib as mlp\n",
    "import matplotlib.pyplot as plt\n",
    "import pandas as pd\n",
    "import numpy as np\n",
    "\n",
    "from sklearn.preprocessing import StandardScaler\n",
    "from sklearn.linear_model import SGDClassifier\n",
    "\n",
    "from sklearn.model_selection import cross_val_score, cross_val_predict\n",
    "from sklearn.model_selection import StratifiedKFold\n",
    "\n",
    "from sklearn.metrics import precision_score, recall_score, f1_score, accuracy_score\n",
    "from sklearn.metrics import confusion_matrix\n",
    "from sklearn.metrics import precision_recall_curve\n",
    "from sklearn.metrics import roc_curve\n",
    "from sklearn.metrics import roc_auc_score\n",
    "from sklearn import clone\n",
    "\n",
    "from sklearn.multiclass import OneVsRestClassifier\n",
    "from sklearn.ensemble import RandomForestClassifier\n",
    "from sklearn.svm import SVC\n",
    "\n",
    "from sklearn.neighbors import KNeighborsClassifier"
   ]
  },
  {
   "cell_type": "code",
   "execution_count": 2,
   "id": "71e4b4b6",
   "metadata": {},
   "outputs": [
    {
     "data": {
      "text/plain": [
       "dict_keys(['data', 'target', 'frame', 'categories', 'feature_names', 'target_names', 'DESCR', 'details', 'url'])"
      ]
     },
     "execution_count": 2,
     "metadata": {},
     "output_type": "execute_result"
    }
   ],
   "source": [
    "minst = fetch_openml('mnist_784', version=1)\n",
    "minst.keys()"
   ]
  },
  {
   "cell_type": "code",
   "execution_count": 3,
   "id": "3f7d8689",
   "metadata": {},
   "outputs": [],
   "source": [
    "X, y = minst['data'], minst['target']"
   ]
  },
  {
   "cell_type": "code",
   "execution_count": 4,
   "id": "29c49623",
   "metadata": {},
   "outputs": [
    {
     "data": {
      "text/plain": [
       "(70000, 784)"
      ]
     },
     "execution_count": 4,
     "metadata": {},
     "output_type": "execute_result"
    }
   ],
   "source": [
    "X.shape"
   ]
  },
  {
   "cell_type": "code",
   "execution_count": 5,
   "id": "6aad1066",
   "metadata": {},
   "outputs": [
    {
     "data": {
      "text/plain": [
       "(70000,)"
      ]
     },
     "execution_count": 5,
     "metadata": {},
     "output_type": "execute_result"
    }
   ],
   "source": [
    "y.shape"
   ]
  },
  {
   "cell_type": "markdown",
   "id": "b8719300",
   "metadata": {},
   "source": [
    "### DATA SPLIT"
   ]
  },
  {
   "cell_type": "code",
   "execution_count": 6,
   "id": "bb3ffed1",
   "metadata": {},
   "outputs": [],
   "source": [
    "X_train, y_train = X[:6000] , y[:6000]"
   ]
  },
  {
   "cell_type": "code",
   "execution_count": 7,
   "id": "845a4699",
   "metadata": {},
   "outputs": [],
   "source": [
    "# Convert to numpy array\n",
    "X_train_numpy = X_train.to_numpy()\n",
    "y_train_numpy = y_train.to_numpy()"
   ]
  },
  {
   "cell_type": "markdown",
   "id": "a54dc89f",
   "metadata": {},
   "source": [
    "### DATA AUGMENTATION"
   ]
  },
  {
   "cell_type": "code",
   "execution_count": 8,
   "id": "4d00880a",
   "metadata": {},
   "outputs": [],
   "source": [
    "from scipy.ndimage import shift"
   ]
  },
  {
   "cell_type": "code",
   "execution_count": 9,
   "id": "a6bb0a7e",
   "metadata": {},
   "outputs": [],
   "source": [
    "def shift_image(image, dx, dy):\n",
    "    # reshape the flat vector into 2D\n",
    "    image_2d = image.reshape(28, 28)\n",
    "    # shift the image\n",
    "    shifted_image_2d = shift(image_2d, [dy, dx], cval=0, mode=\"constant\") \n",
    "    # flatten back to 1D\n",
    "    return shifted_image_2d.reshape(-1)"
   ]
  },
  {
   "cell_type": "code",
   "execution_count": null,
   "id": "1ce4f26c",
   "metadata": {},
   "outputs": [],
   "source": [
    "image = X_train_numpy[1000]\n",
    "\n",
    "shifted_image_down = shift_image(image, dx=0, dy=5)\n",
    "shifted_image_left = shift_image(image, dx=-5, dy=0)"
   ]
  },
  {
   "cell_type": "code",
   "execution_count": 11,
   "id": "89738586",
   "metadata": {},
   "outputs": [
    {
     "data": {
      "text/plain": [
       "Text(0.5, 1.0, 'Shift Left')"
      ]
     },
     "execution_count": 11,
     "metadata": {},
     "output_type": "execute_result"
    },
    {
     "data": {
      "image/png": "[encoded data removed]",
      "text/plain": [
       "<Figure size 640x480 with 3 Axes>"
      ]
     },
     "metadata": {},
     "output_type": "display_data"
    }
   ],
   "source": [
    "plt.subplot(1, 3, 1)\n",
    "plt.imshow(image.reshape(28, 28), cmap=\"gray\")\n",
    "plt.title('Original')\n",
    "\n",
    "plt.subplot(1, 3, 2)\n",
    "plt.imshow(shifted_image_down.reshape(28, 28), cmap='gray')\n",
    "plt.title('Shift Down')\n",
    "\n",
    "plt.subplot(1, 3, 3)\n",
    "plt.imshow(shifted_image_left.reshape(28, 28), cmap='gray')\n",
    "plt.title('Shift Left')"
   ]
  },
  {
   "cell_type": "markdown",
   "id": "5d8a3114",
   "metadata": {},
   "source": [
    "### DATA AUGMENTATION FOR ALL"
   ]
  },
  {
   "cell_type": "code",
   "execution_count": null,
   "id": "8b7e1371",
   "metadata": {},
   "outputs": [],
   "source": [
    "# NumPy arrays do not support .append() method, so we use list comprehension\n",
    "X_train_augmented = [image for image in X_train_numpy]\n",
    "y_train_augmented = [label for label in y_train_numpy]"
   ]
  },
  {
   "cell_type": "code",
   "execution_count": null,
   "id": "23a709af",
   "metadata": {},
   "outputs": [],
   "source": [
    "# Loop over different shift directions:\n",
    "for dx, dy in ((1,0), (-1,0), (0,1), (0,-1)): # (1,0)=right, (-1,0)=left, (0,1)=down, (0,-1)=up\n",
    "    # Loop through all original images and their labels\n",
    "    for image, label in zip(X_train_numpy, y_train_numpy):\n",
    "        # Add the shifted image to the augmented training set\n",
    "        X_train_augmented.append(shift_image(image, dx, dy))\n",
    "        y_train_augmented.append(label)"
   ]
  },
  {
   "cell_type": "code",
   "execution_count": 32,
   "id": "aa275b60",
   "metadata": {},
   "outputs": [],
   "source": [
    "X_train_augmented = np.array(X_train_augmented)\n",
    "y_train_augmented = np.array(y_train_augmented)"
   ]
  }
 ],
 "metadata": {
  "kernelspec": {
   "display_name": "sklearn-env",
   "language": "python",
   "name": "python3"
  },
  "language_info": {
   "codemirror_mode": {
    "name": "ipython",
    "version": 3
   },
   "file_extension": ".py",
   "mimetype": "text/x-python",
   "name": "python",
   "nbconvert_exporter": "python",
   "pygments_lexer": "ipython3",
   "version": "3.10.18"
  }
 },
 "nbformat": 4,
 "nbformat_minor": 5
}
