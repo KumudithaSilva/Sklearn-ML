{
 "cells": [
  {
   "cell_type": "markdown",
   "id": "05fda6b7",
   "metadata": {},
   "source": [
    "# Spam Classification 🧩📧\n",
    "\n",
    "This notebook demonstrates a simple but powerful machine learning task: **classifying spam and non spam** using the spamassassin dataset.\n",
    "\n",
    "The **spamassassin** dataset is a classic benchmark in the field of machine learning.\n",
    "\n",
    "In this notebook, we will:\n",
    "- Load and explore the MNIST dataset\n",
    "- Preprocess the data for model input"
   ]
  },
  {
   "cell_type": "code",
   "execution_count": null,
   "id": "d410cc36",
   "metadata": {},
   "outputs": [],
   "source": [
    "import os\n",
    "import tarfile\n",
    "import urllib.request"
   ]
  },
  {
   "cell_type": "code",
   "execution_count": null,
   "id": "2fa43d60",
   "metadata": {},
   "outputs": [],
   "source": [
    "DOWNLOAD_ROOT = \"http://spamassassin.apache.org/old/publiccorpus/\"\n",
    "HAM_URL = DOWNLOAD_ROOT + \"20030228_easy_ham.tar.bz2\"\n",
    "SPAM_URL = DOWNLOAD_ROOT + \"20030228_spam.tar.bz2\"\n",
    "SPAM_PATH = os.path.join(\"datasets\", \"spam\")"
   ]
  },
  {
   "cell_type": "code",
   "execution_count": null,
   "id": "dfe3950d",
   "metadata": {},
   "outputs": [],
   "source": [
    "def fetch_spam_dataset(ham_url=HAM_URL, spam_url=SPAM_URL, spam_path=SPAM_PATH):\n",
    "    if not os.path.isdir(spam_path):\n",
    "        os.makedirs(spam_path)\n",
    "        for filename, url in ((\"ham.tar.bz2\", ham_url),(\"spam.tar.bz2\", spam_url)):\n",
    "            filepath = os.path.join(spam_path, filename)\n",
    "            if not os.path.isfile(filepath):\n",
    "                urllib.request.urlretrieve(url, filepath)\n",
    "            tar_bz2_file = tarfile.open(filepath)\n",
    "            tar_bz2_file.extractall(path=spam_path)\n",
    "            tar_bz2_file.close()"
   ]
  },
  {
   "cell_type": "code",
   "execution_count": null,
   "id": "25da0dd9",
   "metadata": {},
   "outputs": [],
   "source": [
    "fetch_spam_dataset()"
   ]
  },
  {
   "cell_type": "code",
   "execution_count": null,
   "id": "8b460f3a",
   "metadata": {},
   "outputs": [],
   "source": [
    "## load dataset\n",
    "HAM_DIR = os.path.join(SPAM_PATH, \"easy_ham\")\n",
    "SPAM_DIR = os.path.join(SPAM_PATH, \"spam\")"
   ]
  },
  {
   "cell_type": "code",
   "execution_count": null,
   "id": "e197475b",
   "metadata": {},
   "outputs": [],
   "source": [
    "ham_filename = [name for name in sorted(os.listdir(HAM_DIR)) if len(name) > 20]\n",
    "spam_filename = [name for name in sorted(os.listdir(SPAM_DIR)) if len(name) > 20]"
   ]
  },
  {
   "cell_type": "code",
   "execution_count": null,
   "id": "459c35f2",
   "metadata": {},
   "outputs": [],
   "source": [
    "len(ham_filename), len(spam_filename)"
   ]
  },
  {
   "cell_type": "code",
   "execution_count": null,
   "id": "6c0b0215",
   "metadata": {},
   "outputs": [],
   "source": [
    "## Use email module to parse these emails\n",
    "\n",
    "import email  # standard library package for handling email messages\n",
    "import email.policy  # provides parsing policies (e.g. for bytes parsing)\n",
    "\n",
    "def load_email(is_spam, filename, spam_path=SPAM_PATH):\n",
    "    # choose subdirectory based on whether the message is spam or ham\n",
    "    directory = \"spam\" if is_spam else \"easy_ham\"\n",
    "    # open the raw email file in binary mode\n",
    "    with open(os.path.join(spam_path, directory, filename), 'rb') as f:\n",
    "        # parse the binary stream into an EmailMessage using the default policy and return it\n",
    "        return email.parser.BytesParser(policy=email.policy.default).parse(f)"
   ]
  },
  {
   "cell_type": "code",
   "execution_count": null,
   "id": "d88191f5",
   "metadata": {},
   "outputs": [],
   "source": [
    "ham_emails = [load_email(is_spam=False, filename=name) for name in ham_filename]\n",
    "spam_emails = [load_email(is_spam=True, filename=name) for name in spam_filename]"
   ]
  },
  {
   "cell_type": "code",
   "execution_count": 39,
   "id": "dc54379d",
   "metadata": {},
   "outputs": [
    {
     "name": "stdout",
     "output_type": "stream",
     "text": [
      "Martin Adamson wrote:\n",
      "> \n",
      "> Isn't it just basically a mixture of beaten egg and bacon (or pancetta, \n",
      "> really)? You mix in the raw egg to the cooked pasta and the heat of the pasta \n",
      "> cooks the egg. That's my understanding.\n",
      "> \n",
      "\n",
      "You're probably right, mine's just the same but with the cream added to the \n",
      "eggs.  I guess I should try it without.  Actually looking on the internet for a \n",
      "recipe I found this one from possibly one of the scariest people I've ever seen, \n",
      "and he's a US Congressman:\n",
      "<http://www.virtualcities.com/ons/me/gov/megvjb1.htm>\n",
      "\n",
      "That's one of the worst non-smiles ever.\n",
      "\n",
      "Stew\n",
      "ps. Apologies if any of the list's Maine residents voted for this man, you won't \n",
      "do it again once you've seen this pic.\n",
      "\n",
      "-- \n",
      "Stewart Smith\n",
      "Scottish Microelectronics Centre, University of Edinburgh.\n",
      "http://www.ee.ed.ac.uk/~sxs/\n",
      "\n",
      "\n",
      "------------------------ Yahoo! Groups Sponsor ---------------------~-->\n",
      "4 DVDs Free +s&p Join Now\n",
      "http://us.click.yahoo.com/pt6YBB/NXiEAA/mG3HAA/7gSolB/TM\n",
      "---------------------------------------------------------------------~->\n",
      "\n",
      "To unsubscribe from this group, send an email to:\n",
      "forteana-unsubscribe@egroups.com\n",
      "\n",
      " \n",
      "\n",
      "Your use of Yahoo! Groups is subject to http://docs.yahoo.com/info/terms/\n"
     ]
    }
   ],
   "source": [
    "print(ham_emails[7].get_content().strip())"
   ]
  }
 ],
 "metadata": {
  "kernelspec": {
   "display_name": "sklearn-env",
   "language": "python",
   "name": "python3"
  },
  "language_info": {
   "codemirror_mode": {
    "name": "ipython",
    "version": 3
   },
   "file_extension": ".py",
   "mimetype": "text/x-python",
   "name": "python",
   "nbconvert_exporter": "python",
   "pygments_lexer": "ipython3",
   "version": "3.10.18"
  }
 },
 "nbformat": 4,
 "nbformat_minor": 5
}
