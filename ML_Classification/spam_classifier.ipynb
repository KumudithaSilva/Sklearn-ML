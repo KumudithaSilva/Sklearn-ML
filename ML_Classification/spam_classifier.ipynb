{
 "cells": [
  {
   "cell_type": "markdown",
   "id": "05fda6b7",
   "metadata": {},
   "source": [
    "# Spam Classification 🧩📧\n",
    "\n",
    "This notebook demonstrates a simple but powerful machine learning task: **classifying spam and non spam** using the spamassassin dataset.\n",
    "\n",
    "The **spamassassin** dataset is a classic benchmark in the field of machine learning.\n",
    "\n",
    "In this notebook, we will:\n",
    "- Load and explore the MNIST dataset\n",
    "- Preprocess the data for model input"
   ]
  },
  {
   "cell_type": "code",
   "execution_count": 2,
   "id": "d410cc36",
   "metadata": {},
   "outputs": [],
   "source": [
    "import os\n",
    "import tarfile\n",
    "import urllib.request"
   ]
  },
  {
   "cell_type": "code",
   "execution_count": 3,
   "id": "2fa43d60",
   "metadata": {},
   "outputs": [],
   "source": [
    "DOWNLOAD_ROOT = \"http://spamassassin.apache.org/old/publiccorpus/\"\n",
    "HAM_URL = DOWNLOAD_ROOT + \"20030228_easy_ham.tar.bz2\"\n",
    "SPAM_URL = DOWNLOAD_ROOT + \"20030228_spam.tar.bz2\"\n",
    "SPAM_PATH = os.path.join(\"datasets\", \"spam\")"
   ]
  },
  {
   "cell_type": "code",
   "execution_count": 4,
   "id": "dfe3950d",
   "metadata": {},
   "outputs": [],
   "source": [
    "def fetch_spam_dataset(ham_url=HAM_URL, spam_url=SPAM_URL, spam_path=SPAM_PATH):\n",
    "    if not os.path.isdir(spam_path):\n",
    "        os.makedirs(spam_path)\n",
    "        for filename, url in ((\"ham.tar.bz2\", ham_url),(\"spam.tar.bz2\", spam_url)):\n",
    "            filepath = os.path.join(spam_path, filename)\n",
    "            if not os.path.isfile(filepath):\n",
    "                urllib.request.urlretrieve(url, filepath)\n",
    "            tar_bz2_file = tarfile.open(filepath)\n",
    "            tar_bz2_file.extractall(path=spam_path)\n",
    "            tar_bz2_file.close()"
   ]
  },
  {
   "cell_type": "code",
   "execution_count": 5,
   "id": "25da0dd9",
   "metadata": {},
   "outputs": [],
   "source": [
    "fetch_spam_dataset()"
   ]
  },
  {
   "cell_type": "code",
   "execution_count": 6,
   "id": "8b460f3a",
   "metadata": {},
   "outputs": [],
   "source": [
    "## load dataset\n",
    "HAM_DIR = os.path.join(SPAM_PATH, \"easy_ham\")\n",
    "SPAM_DIR = os.path.join(SPAM_PATH, \"spam\")"
   ]
  },
  {
   "cell_type": "code",
   "execution_count": null,
   "id": "e197475b",
   "metadata": {},
   "outputs": [],
   "source": [
    "ham_filename = [name for name in sorted(os.listdir(HAM_DIR)) if len(name) > 20]\n",
    "spam_filename = [name for name in sorted(os.listdir(SPAM_DIR)) if len(name) > 20]"
   ]
  },
  {
   "cell_type": "code",
   "execution_count": null,
   "id": "459c35f2",
   "metadata": {},
   "outputs": [
    {
     "data": {
      "text/plain": [
       "(2500, 500)"
      ]
     },
     "execution_count": 9,
     "metadata": {},
     "output_type": "execute_result"
    }
   ],
   "source": [
    "len(ham_filename), len(spam_filename)"
   ]
  }
 ],
 "metadata": {
  "kernelspec": {
   "display_name": "sklearn-env",
   "language": "python",
   "name": "python3"
  },
  "language_info": {
   "codemirror_mode": {
    "name": "ipython",
    "version": 3
   },
   "file_extension": ".py",
   "mimetype": "text/x-python",
   "name": "python",
   "nbconvert_exporter": "python",
   "pygments_lexer": "ipython3",
   "version": "3.10.18"
  }
 },
 "nbformat": 4,
 "nbformat_minor": 5
}
