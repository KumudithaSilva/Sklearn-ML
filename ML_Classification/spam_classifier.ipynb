{
 "cells": [
  {
   "cell_type": "markdown",
   "id": "05fda6b7",
   "metadata": {},
   "source": [
    "# Spam Classification 🧩📧\n",
    "\n",
    "This notebook demonstrates a simple but powerful machine learning task: **classifying spam and non spam** using the spamassassin dataset.\n",
    "\n",
    "The **spamassassin** dataset is a classic benchmark in the field of machine learning.\n",
    "\n",
    "In this notebook, we will:\n",
    "- Load and explore the MNIST dataset\n",
    "- Preprocess the data for model input"
   ]
  },
  {
   "cell_type": "code",
   "execution_count": 1,
   "id": "d410cc36",
   "metadata": {},
   "outputs": [],
   "source": [
    "import os\n",
    "import tarfile\n",
    "import urllib.request"
   ]
  },
  {
   "cell_type": "code",
   "execution_count": 2,
   "id": "2fa43d60",
   "metadata": {},
   "outputs": [],
   "source": [
    "DOWNLOAD_ROOT = \"http://spamassassin.apache.org/old/publiccorpus/\"\n",
    "HAM_URL = DOWNLOAD_ROOT + \"20030228_easy_ham.tar.bz2\"\n",
    "SPAM_URL = DOWNLOAD_ROOT + \"20030228_spam.tar.bz2\"\n",
    "SPAM_PATH = os.path.join(\"datasets\", \"spam\")"
   ]
  },
  {
   "cell_type": "code",
   "execution_count": 3,
   "id": "dfe3950d",
   "metadata": {},
   "outputs": [],
   "source": [
    "def fetch_spam_dataset(ham_url=HAM_URL, spam_url=SPAM_URL, spam_path=SPAM_PATH):\n",
    "    if not os.path.isdir(spam_path):\n",
    "        os.makedirs(spam_path)\n",
    "        for filename, url in ((\"ham.tar.bz2\", ham_url),(\"spam.tar.bz2\", spam_url)):\n",
    "            filepath = os.path.join(spam_path, filename)\n",
    "            if not os.path.isfile(filepath):\n",
    "                urllib.request.urlretrieve(url, filepath)\n",
    "            tar_bz2_file = tarfile.open(filepath)\n",
    "            tar_bz2_file.extractall(path=spam_path)\n",
    "            tar_bz2_file.close()"
   ]
  },
  {
   "cell_type": "code",
   "execution_count": 4,
   "id": "25da0dd9",
   "metadata": {},
   "outputs": [],
   "source": [
    "fetch_spam_dataset()"
   ]
  },
  {
   "cell_type": "code",
   "execution_count": 5,
   "id": "8b460f3a",
   "metadata": {},
   "outputs": [],
   "source": [
    "## load dataset\n",
    "HAM_DIR = os.path.join(SPAM_PATH, \"easy_ham\")\n",
    "SPAM_DIR = os.path.join(SPAM_PATH, \"spam\")"
   ]
  },
  {
   "cell_type": "code",
   "execution_count": 6,
   "id": "e197475b",
   "metadata": {},
   "outputs": [],
   "source": [
    "ham_filename = [name for name in sorted(os.listdir(HAM_DIR)) if len(name) > 20]\n",
    "spam_filename = [name for name in sorted(os.listdir(SPAM_DIR)) if len(name) > 20]"
   ]
  },
  {
   "cell_type": "code",
   "execution_count": 7,
   "id": "459c35f2",
   "metadata": {},
   "outputs": [
    {
     "data": {
      "text/plain": [
       "(2500, 500)"
      ]
     },
     "execution_count": 7,
     "metadata": {},
     "output_type": "execute_result"
    }
   ],
   "source": [
    "len(ham_filename), len(spam_filename)"
   ]
  },
  {
   "cell_type": "code",
   "execution_count": 8,
   "id": "6c0b0215",
   "metadata": {},
   "outputs": [],
   "source": [
    "## Use email module to parse these emails\n",
    "\n",
    "import email  # standard library package for handling email messages\n",
    "import email.policy  # provides parsing policies (e.g. for bytes parsing)\n",
    "\n",
    "def load_email(is_spam, filename, spam_path=SPAM_PATH):\n",
    "    # choose subdirectory based on whether the message is spam or ham\n",
    "    directory = \"spam\" if is_spam else \"easy_ham\"\n",
    "    # open the raw email file in binary mode\n",
    "    with open(os.path.join(spam_path, directory, filename), 'rb') as f:\n",
    "        # parse the binary stream into an EmailMessage using the default policy and return it\n",
    "        return email.parser.BytesParser(policy=email.policy.default).parse(f)"
   ]
  },
  {
   "cell_type": "code",
   "execution_count": 9,
   "id": "d88191f5",
   "metadata": {},
   "outputs": [],
   "source": [
    "ham_emails = [load_email(is_spam=False, filename=name) for name in ham_filename]\n",
    "spam_emails = [load_email(is_spam=True, filename=name) for name in spam_filename]"
   ]
  },
  {
   "cell_type": "code",
   "execution_count": 10,
   "id": "dc54379d",
   "metadata": {},
   "outputs": [
    {
     "name": "stdout",
     "output_type": "stream",
     "text": [
      "Martin Adamson wrote:\n",
      "> \n",
      "> Isn't it just basically a mixture of beaten egg and bacon (or pancetta, \n",
      "> really)? You mix in the raw egg to the cooked pasta and the heat of the pasta \n",
      "> cooks the egg. That's my understanding.\n",
      "> \n",
      "\n",
      "You're probably right, mine's just the same but with the cream added to the \n",
      "eggs.  I guess I should try it without.  Actually looking on the internet for a \n",
      "recipe I found this one from possibly one of the scariest people I've ever seen, \n",
      "and he's a US Congressman:\n",
      "<http://www.virtualcities.com/ons/me/gov/megvjb1.htm>\n",
      "\n",
      "That's one of the worst non-smiles ever.\n",
      "\n",
      "Stew\n",
      "ps. Apologies if any of the list's Maine residents voted for this man, you won't \n",
      "do it again once you've seen this pic.\n",
      "\n",
      "-- \n",
      "Stewart Smith\n",
      "Scottish Microelectronics Centre, University of Edinburgh.\n",
      "http://www.ee.ed.ac.uk/~sxs/\n",
      "\n",
      "\n",
      "------------------------ Yahoo! Groups Sponsor ---------------------~-->\n",
      "4 DVDs Free +s&p Join Now\n",
      "http://us.click.yahoo.com/pt6YBB/NXiEAA/mG3HAA/7gSolB/TM\n",
      "---------------------------------------------------------------------~->\n",
      "\n",
      "To unsubscribe from this group, send an email to:\n",
      "forteana-unsubscribe@egroups.com\n",
      "\n",
      " \n",
      "\n",
      "Your use of Yahoo! Groups is subject to http://docs.yahoo.com/info/terms/\n"
     ]
    }
   ],
   "source": [
    "print(ham_emails[7].get_content().strip())"
   ]
  },
  {
   "cell_type": "code",
   "execution_count": 11,
   "id": "db7723b8",
   "metadata": {},
   "outputs": [
    {
     "name": "stdout",
     "output_type": "stream",
     "text": [
      "Help wanted.  We are a 14 year old fortune 500 company, that is\n",
      "growing at a tremendous rate.  We are looking for individuals who\n",
      "want to work from home.\n",
      "\n",
      "This is an opportunity to make an excellent income.  No experience\n",
      "is required.  We will train you.\n",
      "\n",
      "So if you are looking to be employed from home with a career that has\n",
      "vast opportunities, then go:\n",
      "\n",
      "http://www.basetel.com/wealthnow\n",
      "\n",
      "We are looking for energetic and self motivated people.  If that is you\n",
      "than click on the link and fill out the form, and one of our\n",
      "employement specialist will contact you.\n",
      "\n",
      "To be removed from our link simple go to:\n",
      "\n",
      "http://www.basetel.com/remove.html\n",
      "\n",
      "\n",
      "4139vOLW7-758DoDY1425FRhM1-764SMFc8513fCsLl40\n"
     ]
    }
   ],
   "source": [
    "print(spam_emails[6].get_content().strip())"
   ]
  },
  {
   "cell_type": "code",
   "execution_count": 12,
   "id": "0549cb91",
   "metadata": {},
   "outputs": [],
   "source": [
    "# Analyze the structure of email messages\n",
    "\n",
    "def get_email_structure(email):\n",
    "    # if the input is a plain string (not an EmailMessage), return it unchanged\n",
    "    if isinstance(email, str):\n",
    "        return email\n",
    "    # retrieve the payload of the email (could be a string/bytes for singlepart or a list for multipart)\n",
    "    payload = email.get_payload()\n",
    "    # if payload is a list -> multipart message; describe each subpart recursively\n",
    "    if isinstance(payload, list):\n",
    "        # join the structure descriptions of all subparts into a single multipart description\n",
    "        return \"multipart ({})\".format(\", \".join([get_email_structure(sub_email) for sub_email in payload]))\n",
    "    else:\n",
    "        # singlepart: return the content type (e.g., 'text/plain', 'text/html', etc.)\n",
    "        return email.get_content_type()"
   ]
  },
  {
   "cell_type": "code",
   "execution_count": 13,
   "id": "fe1e2602",
   "metadata": {},
   "outputs": [],
   "source": [
    "from collections import Counter\n",
    "\n",
    "# analyze the structure of all emails in a list and count occurrences of each structure\n",
    "def structure_counter(emails):\n",
    "    structures = Counter()\n",
    "    for email in emails:\n",
    "        # it automatically counts how many times each structure appears.\n",
    "        structure = get_email_structure(email)\n",
    "        structures[structure] += 1\n",
    "    return structures "
   ]
  },
  {
   "cell_type": "code",
   "execution_count": 14,
   "id": "e7038ad7",
   "metadata": {},
   "outputs": [
    {
     "data": {
      "text/plain": [
       "[('text/plain', 218),\n",
       " ('text/html', 183),\n",
       " ('multipart (text/plain, text/html)', 45),\n",
       " ('multipart (text/html)', 20),\n",
       " ('multipart (text/plain)', 19),\n",
       " ('multipart (multipart (text/html))', 5),\n",
       " ('multipart (text/plain, image/jpeg)', 3),\n",
       " ('multipart (text/html, application/octet-stream)', 2),\n",
       " ('multipart (text/plain, application/octet-stream)', 1),\n",
       " ('multipart (text/html, text/plain)', 1),\n",
       " ('multipart (multipart (text/html), application/octet-stream, image/jpeg)',\n",
       "  1),\n",
       " ('multipart (multipart (text/plain, text/html), image/gif)', 1),\n",
       " ('multipart/alternative', 1)]"
      ]
     },
     "execution_count": 14,
     "metadata": {},
     "output_type": "execute_result"
    }
   ],
   "source": [
    "structure_counter(spam_emails).most_common()"
   ]
  },
  {
   "cell_type": "code",
   "execution_count": 15,
   "id": "37401af9",
   "metadata": {},
   "outputs": [
    {
     "data": {
      "text/plain": [
       "[('text/plain', 2408),\n",
       " ('multipart (text/plain, application/pgp-signature)', 66),\n",
       " ('multipart (text/plain, text/html)', 8),\n",
       " ('multipart (text/plain, text/plain)', 4),\n",
       " ('multipart (text/plain)', 3),\n",
       " ('multipart (text/plain, application/octet-stream)', 2),\n",
       " ('multipart (text/plain, text/enriched)', 1),\n",
       " ('multipart (text/plain, application/ms-tnef, text/plain)', 1),\n",
       " ('multipart (multipart (text/plain, text/plain, text/plain), application/pgp-signature)',\n",
       "  1),\n",
       " ('multipart (text/plain, video/mng)', 1),\n",
       " ('multipart (text/plain, multipart (text/plain))', 1),\n",
       " ('multipart (text/plain, application/x-pkcs7-signature)', 1),\n",
       " ('multipart (text/plain, multipart (text/plain, text/plain), text/rfc822-headers)',\n",
       "  1),\n",
       " ('multipart (text/plain, multipart (text/plain, text/plain), multipart (multipart (text/plain, application/x-pkcs7-signature)))',\n",
       "  1),\n",
       " ('multipart (text/plain, application/x-java-applet)', 1)]"
      ]
     },
     "execution_count": 15,
     "metadata": {},
     "output_type": "execute_result"
    }
   ],
   "source": [
    "structure_counter(ham_emails).most_common()\n"
   ]
  },
  {
   "cell_type": "code",
   "execution_count": 16,
   "id": "1c86e4e4",
   "metadata": {},
   "outputs": [
    {
     "name": "stdout",
     "output_type": "stream",
     "text": [
      "Return-Path == <12a1mailbot1@web.de>\n",
      "Delivered-To == zzzz@localhost.spamassassin.taint.org\n",
      "Received == from localhost (localhost [127.0.0.1])\tby phobos.labs.spamassassin.taint.org (Postfix) with ESMTP id 136B943C32\tfor <zzzz@localhost>; Thu, 22 Aug 2002 08:17:21 -0400 (EDT)\n",
      "Received == from mail.webnote.net [193.120.211.219]\tby localhost with POP3 (fetchmail-5.9.0)\tfor zzzz@localhost (single-drop); Thu, 22 Aug 2002 13:17:21 +0100 (IST)\n",
      "Received == from dd_it7 ([210.97.77.167])\tby webnote.net (8.9.3/8.9.3) with ESMTP id NAA04623\tfor <zzzz@spamassassin.taint.org>; Thu, 22 Aug 2002 13:09:41 +0100\n",
      "From == 12a1mailbot1@web.de\n",
      "Received == from r-smtp.korea.com - 203.122.2.197 by dd_it7  with Microsoft SMTPSVC(5.5.1775.675.6);\t Sat, 24 Aug 2002 09:42:10 +0900\n",
      "To == dcek1a1@netsgo.com\n",
      "Subject == Life Insurance - Why Pay More?\n",
      "Date == Wed, 21 Aug 2002 20:31:57 -1600\n",
      "MIME-Version == 1.0\n",
      "Message-ID == <0103c1042001882DD_IT7@dd_it7>\n",
      "Content-Type == text/html; charset=\"iso-8859-1\"\n",
      "Content-Transfer-Encoding == quoted-printable\n"
     ]
    }
   ],
   "source": [
    "# email headers\n",
    "\n",
    "for header, value in spam_emails[0].items():\n",
    "    print(f\"{header} == {value}\")"
   ]
  },
  {
   "cell_type": "code",
   "execution_count": 17,
   "id": "2d5fc366",
   "metadata": {},
   "outputs": [
    {
     "name": "stdout",
     "output_type": "stream",
     "text": [
      "Life Insurance - Why Pay More?\n",
      "[ILUG] Guaranteed to lose 10-12 lbs in 30 days 10.206\n",
      "Guaranteed to lose 10-12 lbs in 30 days                          11.150\n",
      "Re: Fw: User Name & Password to Membership To 5 Sites zzzz@spamassassin.taint.org pviqg\n",
      "[ILUG-Social] re: Guaranteed to lose 10-12 lbs in 30 days 10.148\n",
      "RE: Your Bank Account Information \n",
      "FORTUNE 500 COMPANY HIRING, AT HOME REPS.\n",
      "Is Your Family Protected?\n",
      "RE: Important Information Concerning Your Bank Account \n",
      "MULTIPLY YOUR CUSTOMER BASE!\n"
     ]
    }
   ],
   "source": [
    "for sub in range (10):\n",
    "    print(spam_emails[sub]['Subject'])"
   ]
  },
  {
   "cell_type": "code",
   "execution_count": 40,
   "id": "7ccd3626",
   "metadata": {},
   "outputs": [],
   "source": [
    "# Data Splitting\n",
    "\n",
    "import numpy as np\n",
    "from sklearn.model_selection import train_test_split\n",
    "\n",
    "X = np.array(ham_emails + spam_emails, dtype=object)\n",
    "y = np.array([0] * len(ham_emails) + [1] * len(spam_emails))"
   ]
  },
  {
   "cell_type": "code",
   "execution_count": 44,
   "id": "6c8c3c6c",
   "metadata": {},
   "outputs": [],
   "source": [
    "X_train, X_test, y_train, y_test = train_test_split(X, y, test_size=0.2, random_state=42)"
   ]
  },
  {
   "cell_type": "code",
   "execution_count": 46,
   "id": "24bda72b",
   "metadata": {},
   "outputs": [],
   "source": [
    "# HTML to text conversion\n",
    "import re\n",
    "from html import unescape\n",
    "\n",
    "def html_text(html):\n",
    "    # (pattern, replacement, string, flags=0)\n",
    "    # re.M — Multiline mode\n",
    "    # re.S — Dot matches all (including newlines)\n",
    "    # re.I — Ignore case, Makes the match case-insensitive.\n",
    "\n",
    "    # Remove the entire <head>...</head> section (including metadata, scripts, styles, etc.)\n",
    "    text = re.sub(r'<head.*?>.*?</head>', ' ', html, flags=re.M | re.S | re.I)\n",
    "\n",
    "    # Replace all HTML <a ...> opening tags with the placeholder \"HYPERLINK\"\n",
    "    text = re.sub(r'<a/s.*?>', ' HYPERLINK ', text, flags=re.M | re.S | re.I)\n",
    "\n",
    "     # Remove all remaining HTML tags (e.g. <div>, <p>, </a>, <span>, etc.)\n",
    "    text = re.sub(r'<.*?>', ' ', text, flags=re.M | re.S   | re.I)\n",
    "\n",
    "    # Cleans up spacing and removes extra blank lines.\n",
    "    text = re.sub(r'(\\s*\\n)+', '\\n', text, flags=re.M | re.S)\n",
    "\n",
    "    return unescape(text)"
   ]
  },
  {
   "cell_type": "code",
   "execution_count": 53,
   "id": "e20ffe34",
   "metadata": {},
   "outputs": [
    {
     "name": "stdout",
     "output_type": "stream",
     "text": [
      "<HTML><HEAD><TITLE></TITLE><META http-equiv=\"Content-Type\" content=\"text/html; charset=windows-1252\"><STYLE>A:link {TEX-DECORATION: none}A:active {TEXT-DECORATION: none}A:visited {TEXT-DECORATION: none}A:hover {COLOR: #0033ff; TEXT-DECORATION: underline}</STYLE><META content=\"MSHTML 6.00.2713.1100\" name=\"GENERATOR\"></HEAD>\n",
      "<BODY text=\"#000000\" vLink=\"#0033ff\" link=\"#0033ff\" bgColor=\"#CCCC99\"><TABLE borderColor=\"#660000\" cellSpacing=\"0\" cellPadding=\"0\" border=\"0\" width=\"100%\"><TR><TD bgColor=\"#CCCC99\" valign=\"top\" colspan=\"2\" height=\"27\">\n",
      "<font size=\"6\" face=\"Arial, Helvetica, sans-serif\" color=\"#660000\">\n",
      "<b>OTC</b></font></TD></TR><TR><TD height=\"2\" bgcolor=\"#6a694f\">\n",
      "<font size=\"5\" face=\"Times New Roman, Times, serif\" color=\"#FFFFFF\">\n",
      "<b>&nbsp;Newsletter</b></font></TD><TD height=\"2\" bgcolor=\"#6a694f\"><div align=\"right\"><font color=\"#FFFFFF\">\n",
      "<b>Discover Tomorrow's Winners&nbsp;</b></font></div></TD></TR><TR><TD height=\"25\" colspan=\"2\" bgcolor=\"#CCCC99\"><table width=\"100%\" border=\"0\"  ...\n"
     ]
    }
   ],
   "source": [
    "html_spam_emails = [email for email in X_train[y_train==1] if get_email_structure(email) == \"text/html\"]\n",
    "sample_html_spam  = html_spam_emails[7]\n",
    "print(sample_html_spam.get_content().strip()[:1000], \"...\")"
   ]
  },
  {
   "cell_type": "code",
   "execution_count": null,
   "id": "2ce48dd3",
   "metadata": {},
   "outputs": [
    {
     "name": "stdout",
     "output_type": "stream",
     "text": [
      "\n",
      "\n",
      "Converted to text:\n",
      "\n",
      "\n",
      " OTC\n",
      "  Newsletter\n",
      " Discover Tomorrow's Winners \n",
      " For Immediate Release\n",
      " Cal-Bay (Stock Symbol: CBYI)\n",
      " Watch for analyst \"Strong Buy Recommendations\" and several advisory newsletters picking CBYI.  CBYI has filed to be traded on the OTCBB, share prices historically INCREASE when companies get listed on this larger trading exchange. CBYI is trading around 25 cents and should skyrocket to $2.66 - $3.25 a share in the near future.\n",
      "  Put CBYI on your watch list, acquire a position TODAY.\n",
      " REASONS TO INVEST IN CBYI\n",
      "A profitable company and is on track to beat ALL earnings estimates!\n",
      "One of the FASTEST growing distributors in environmental & safety equipment instruments.\n",
      "Excellent management team, several EXCLUSIVE contracts.  IMPRESSIVE client list including the U.S. Air Force, Anheuser-Busch, Chevron Refining and Mitsubishi Heavy Industries, GE-Energy & Environmental Research.\n",
      " RAPIDLY GROWING INDUSTRY\n",
      " Industry revenues exceed $900 million, estimates indicate that there could be as much a ...\n"
     ]
    }
   ],
   "source": [
    "print(html_text(sample_html_spam.get_content().strip())[:1000], \"...\")"
   ]
  }
 ],
 "metadata": {
  "kernelspec": {
   "display_name": "sklearn-env",
   "language": "python",
   "name": "python3"
  },
  "language_info": {
   "codemirror_mode": {
    "name": "ipython",
    "version": 3
   },
   "file_extension": ".py",
   "mimetype": "text/x-python",
   "name": "python",
   "nbconvert_exporter": "python",
   "pygments_lexer": "ipython3",
   "version": "3.10.18"
  }
 },
 "nbformat": 4,
 "nbformat_minor": 5
}
